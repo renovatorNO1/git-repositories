{
 "cells": [
  {
   "cell_type": "code",
   "execution_count": 2,
   "metadata": {
    "collapsed": false
   },
   "outputs": [
    {
     "data": {
      "text/plain": [
       "{'X': array([[0, 0, 0, ..., 0, 0, 0],\n",
       "        [0, 0, 0, ..., 0, 0, 0],\n",
       "        [0, 0, 0, ..., 0, 0, 0],\n",
       "        ..., \n",
       "        [0, 0, 0, ..., 0, 0, 0],\n",
       "        [0, 0, 0, ..., 0, 0, 0],\n",
       "        [0, 0, 0, ..., 0, 0, 0]], dtype=uint8), 'Y': array([[9],\n",
       "        [5],\n",
       "        [9],\n",
       "        ..., \n",
       "        [4],\n",
       "        [0],\n",
       "        [9]], dtype=uint8), '__globals__': [], '__header__': b'MATLAB 5.0 MAT-file, Platform: PCWIN64, Created on: Sat May 30 00:42:33 2015', '__version__': '1.0'}"
      ]
     },
     "execution_count": 2,
     "metadata": {},
     "output_type": "execute_result"
    }
   ],
   "source": [
    "import scipy.io as sio\n",
    "\n",
    "mat_contents = sio.loadmat(\"hw1data.mat\")\n",
    "mat_contents"
   ]
  },
  {
   "cell_type": "code",
   "execution_count": 3,
   "metadata": {
    "collapsed": false
   },
   "outputs": [],
   "source": [
    "import numpy as np\n",
    "X = np.asarray(mat_contents['X'], dtype=np.int32) # Data Matrix\n",
    "Y = np.asarray(mat_contents['Y'], dtype=np.int8).reshape(10000,1)# Labels\n"
   ]
  },
  {
   "cell_type": "code",
   "execution_count": 5,
   "metadata": {
    "collapsed": false
   },
   "outputs": [
    {
     "name": "stderr",
     "output_type": "stream",
     "text": [
      "C:\\Users\\lucas\\Anaconda3\\lib\\site-packages\\ipykernel\\__main__.py:5: VisibleDeprecationWarning: using a non-integer number instead of an integer will result in an error in the future\n",
      "C:\\Users\\lucas\\Anaconda3\\lib\\site-packages\\ipykernel\\__main__.py:6: VisibleDeprecationWarning: using a non-integer number instead of an integer will result in an error in the future\n"
     ]
    }
   ],
   "source": [
    "# Preprocessing data set\n",
    "import random\n",
    "np.random.shuffle(X)\n",
    "rows = X.shape[0] * 0.8\n",
    "training, trainingLabels = X[:rows,:], Y[:rows,:]\n",
    "testing, testingLabels = X[rows:,:], Y[rows:,:]"
   ]
  },
  {
   "cell_type": "code",
   "execution_count": 11,
   "metadata": {
    "collapsed": false
   },
   "outputs": [
    {
     "name": "stdout",
     "output_type": "stream",
     "text": [
      "(8000, 200)\n"
     ]
    }
   ],
   "source": [
    "### Selecting the top 200 useful features\n",
    "import heapq\n",
    "import numpy as np\n",
    "\n",
    "def summarize(dataset):\n",
    "    summaries = [(np.mean(attribute), np.std(attribute)) for attribute in zip(*dataset)]\n",
    "    return summaries\n",
    "\n",
    "summaries = summarize(X)\n",
    "variances = np.empty(784)\n",
    "for i in range(len(summaries)):\n",
    "    variances[i] = summaries[i][1]\n",
    "    \n",
    "best_feature_indice = (variances).argsort()[-200:][::-1]\n",
    "#print(best_feature_indice)\n",
    "\n",
    "## After selecting the most valuable features\n",
    "trainingSet = training[:, best_feature_indice]\n",
    "print(trainingSet.shape)\n",
    "testingSet = testing[:, best_feature_indice]"
   ]
  },
  {
   "cell_type": "code",
   "execution_count": 12,
   "metadata": {
    "collapsed": false
   },
   "outputs": [
    {
     "name": "stdout",
     "output_type": "stream",
     "text": [
      "[[254 254   0 ..., 179   0   9]\n",
      " [  0   0   0 ..., 181   0   5]\n",
      " [  0   0   0 ..., 253   0   9]\n",
      " ..., \n",
      " [  0   0 252 ...,   0   0   3]\n",
      " [  0   0 255 ...,   0  57   5]\n",
      " [  0   0 255 ...,   0 255   7]]\n"
     ]
    }
   ],
   "source": [
    "combined = np.append(trainingSet, trainingLabels, axis = 1)\n",
    "print(combined)\n",
    "# X = np.asarray(mat_contents['X'], dtype=np.int32) # Data Matrix\n",
    "# Y = np.asarray(mat_contents['Y'], dtype=np.int8)# Labels"
   ]
  },
  {
   "cell_type": "code",
   "execution_count": null,
   "metadata": {
    "collapsed": false
   },
   "outputs": [
    {
     "name": "stdout",
     "output_type": "stream",
     "text": [
      "[0, 1, 2, 3, 4, 5, 6, 7, 8, 9]\n"
     ]
    }
   ],
   "source": [
    "# Calculate the Gini index for a split dataset, given the splited group (left and right) and class values\n",
    "def gini_index(groups, classes):\n",
    "    # count all samples at split point\n",
    "    n_instances = float(sum([len(group) for group in groups]))\n",
    "    \n",
    "#     for group in groups:\n",
    "#         print (len(group)) \n",
    "\n",
    "    #print (n_instances)\n",
    "    # sum weighted Gini index for each group\n",
    "    gini = 0.0\n",
    "    for group in groups:\n",
    "        #print(\"group:\", group)\n",
    "        size = float(len(group))\n",
    "        # avoid divide by zero\n",
    "        if size == 0:\n",
    "            continue\n",
    "        score = 0.0\n",
    "        # score the group based on the score for each class\n",
    "        for class_val in classes:\n",
    "            \n",
    "            p = [row[-1] for row in group].count(class_val) / size\n",
    "            # p is the proportion \n",
    "            \n",
    "            score += p * p\n",
    "            \n",
    "        # weight the group score by its relative size\n",
    "        gini += (1.0 - score) * (size / n_instances)\n",
    "    return gini\n",
    "\n",
    "# Select the best split point for a dataset\n",
    "def get_split(dataset, labels):\n",
    "    class_values = list(set(row[-1] for row in labels))\n",
    "    \n",
    "    b_index, b_value, b_score, b_groups = 999, 999, 999, None\n",
    "    \n",
    "    for index in range(len(dataset[0])-1):\n",
    "        \n",
    "        for row in dataset:\n",
    "            groups = test_split(index, row[index], dataset)\n",
    "            gini = gini_index(groups, class_values)\n",
    "            print('X%d < %.3f Gini=%.3f' % ((index+1), row[index], gini))\n",
    "            if gini < b_score:\n",
    "                b_index, b_value, b_score, b_groups = index, row[index], gini, groups\n",
    "    return {'index':b_index, 'value':b_value, 'groups':b_groups}\n",
    "\n",
    "def get_split(dataset):\n",
    "    \n",
    "    class_values = list(set(row[-1] for row in dataset))\n",
    "    print(\"class values are \", class_values)\n",
    "    b_index, b_value, b_score, b_groups = 999, 999, 999, None\n",
    "    \n",
    "    for index in range(len(dataset[0])-1):\n",
    "        for row in dataset:\n",
    "            groups = test_split(index, row[index], dataset)\n",
    "            #print(groups) #groups are the left and right after Gini Index split\n",
    "            #class values are the labels\n",
    "            gini = gini_index(groups, class_values)\n",
    "            #print('X%d < %.3f Gini=%.3f' % ((index+1), row[index], gini))\n",
    "            if gini < b_score:\n",
    "                b_index, b_value, b_score, b_groups = index, row[index], gini, groups\n",
    "                \n",
    "    return {'index':b_index, 'value':b_value, 'groups':b_groups}\n",
    "\n",
    "dataset = [[2.771244718,1.784783929,0],\n",
    "    [1.728571309,1.169761413,0],\n",
    "    [3.678319846,2.81281357,0],\n",
    "    [3.961043357,2.61995032,0],\n",
    "    [2.999208922,2.209014212,0],\n",
    "    [7.497545867,3.162953546,1],\n",
    "    [9.00220326,3.339047188,1],\n",
    "    [7.444542326,0.476683375,1],\n",
    "    [10.12493903,3.234550982,1],\n",
    "    [6.642287351,3.319983761,1]]\n",
    "#split = get_split(X, Y)\n",
    "\n",
    "sampledata = np.asarray(dataset)\n",
    "samplelabels = sampledata[:, [-1]]\n",
    "sampledata = sampledata[:, [0,1]]\n",
    "#print(sampledata)\n",
    "#split = get_split(sampledata, samplelabels)\n",
    "split = get_split(combined)\n",
    "print('Split: [X%d < %.3f]' % ((split['index']+1), split['value']))"
   ]
  },
  {
   "cell_type": "code",
   "execution_count": null,
   "metadata": {
    "collapsed": true
   },
   "outputs": [],
   "source": []
  }
 ],
 "metadata": {
  "anaconda-cloud": {},
  "kernelspec": {
   "display_name": "Python [conda root]",
   "language": "python",
   "name": "conda-root-py"
  },
  "language_info": {
   "codemirror_mode": {
    "name": "ipython",
    "version": 3
   },
   "file_extension": ".py",
   "mimetype": "text/x-python",
   "name": "python",
   "nbconvert_exporter": "python",
   "pygments_lexer": "ipython3",
   "version": "3.5.2"
  }
 },
 "nbformat": 4,
 "nbformat_minor": 1
}
